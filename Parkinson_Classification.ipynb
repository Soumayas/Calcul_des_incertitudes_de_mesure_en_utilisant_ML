{
  "nbformat": 4,
  "nbformat_minor": 0,
  "metadata": {
    "colab": {
      "provenance": [],
      "include_colab_link": true
    },
    "kernelspec": {
      "name": "python3",
      "display_name": "Python 3"
    },
    "language_info": {
      "name": "python"
    }
  },
  "cells": [
    {
      "cell_type": "markdown",
      "metadata": {
        "id": "view-in-github",
        "colab_type": "text"
      },
      "source": [
        "<a href=\"https://colab.research.google.com/github/Soumayas/Calcul_des_incertitudes_de_mesure_en_utilisant_ML/blob/main/Parkinson_Classification.ipynb\" target=\"_parent\"><img src=\"https://colab.research.google.com/assets/colab-badge.svg\" alt=\"Open In Colab\"/></a>"
      ]
    },
    {
      "cell_type": "markdown",
      "source": [
        "#Importation des bibliothèques"
      ],
      "metadata": {
        "id": "yJ2n4ETPFuAM"
      }
    },
    {
      "cell_type": "code",
      "source": [
        "# Importation des bibliothèques nécessaires\n",
        "import pandas as pd\n",
        "import numpy as np\n",
        "import matplotlib.pyplot as plt\n",
        "import seaborn as sns\n",
        "from sklearn.model_selection import train_test_split\n",
        "from sklearn.preprocessing import StandardScaler\n",
        "from sklearn.feature_selection import SelectKBest, mutual_info_classif\n",
        "from sklearn.ensemble import RandomForestClassifier, AdaBoostClassifier, StackingClassifier\n",
        "from sklearn.metrics import classification_report, confusion_matrix, roc_auc_score\n",
        "from sklearn.tree import DecisionTreeClassifier\n",
        "from sklearn.svm import SVC\n",
        "from sklearn.neighbors import KNeighborsClassifier\n",
        "from sklearn.ensemble import GradientBoostingClassifier"
      ],
      "metadata": {
        "id": "pABgH5cSF8-C"
      },
      "execution_count": null,
      "outputs": []
    },
    {
      "cell_type": "markdown",
      "source": [
        "#1. Chargement et Nettoyage des Données"
      ],
      "metadata": {
        "id": "yijYy7ucGMVh"
      }
    },
    {
      "cell_type": "code",
      "source": [
        "file_path = '/content/pd_speech_features.csv'\n",
        "\n"
      ],
      "metadata": {
        "id": "v10jj-ShGG0v"
      },
      "execution_count": null,
      "outputs": []
    },
    {
      "cell_type": "code",
      "source": [
        "# Charger les données\n",
        "data = pd.read_csv(file_path)"
      ],
      "metadata": {
        "id": "YNcAcT23Gbyy"
      },
      "execution_count": null,
      "outputs": []
    },
    {
      "cell_type": "code",
      "source": [
        "# Renommer les colonnes pour identifier correctement les noms\n",
        "data.columns = data.iloc[0]\n",
        "data = data[1:]"
      ],
      "metadata": {
        "id": "bagRnEyaGg8H"
      },
      "execution_count": null,
      "outputs": []
    },
    {
      "cell_type": "code",
      "source": [
        "# Supprimer les colonnes inutiles (comme 'id', si présentes)\n",
        "data_cleaned = data.drop(columns=[\"id\"], errors=\"ignore\")"
      ],
      "metadata": {
        "id": "OO-UPDuNGnQv"
      },
      "execution_count": null,
      "outputs": []
    },
    {
      "cell_type": "code",
      "source": [
        "# Conversion en types numériques\n",
        "data_cleaned = data_cleaned.apply(pd.to_numeric, errors='coerce')"
      ],
      "metadata": {
        "id": "29hvuS0hGsYG"
      },
      "execution_count": null,
      "outputs": []
    },
    {
      "cell_type": "markdown",
      "source": [
        "#2. Exploration des Données"
      ],
      "metadata": {
        "id": "seWnDbaLG22f"
      }
    },
    {
      "cell_type": "code",
      "source": [
        "# Vérification des valeurs manquantes\n",
        "print(\"\\nValeurs manquantes par colonne :\\n\", data_cleaned.isnull().sum())"
      ],
      "metadata": {
        "colab": {
          "base_uri": "https://localhost:8080/"
        },
        "id": "JlpuKjQ1q0Xg",
        "outputId": "4f276b64-d321-4479-e655-c5be4c358a54"
      },
      "execution_count": null,
      "outputs": [
        {
          "output_type": "stream",
          "name": "stdout",
          "text": [
            "\n",
            "Valeurs manquantes par colonne :\n",
            " 0\n",
            "gender                       0\n",
            "PPE                          0\n",
            "DFA                          0\n",
            "RPDE                         0\n",
            "numPulses                    0\n",
            "                            ..\n",
            "tqwt_kurtosisValue_dec_33    0\n",
            "tqwt_kurtosisValue_dec_34    0\n",
            "tqwt_kurtosisValue_dec_35    0\n",
            "tqwt_kurtosisValue_dec_36    0\n",
            "class                        0\n",
            "Length: 754, dtype: int64\n"
          ]
        }
      ]
    },
    {
      "cell_type": "code",
      "source": [
        "# Répartition des classes\n",
        "print(\"\\nRépartition des classes:\\n\", data_cleaned['class'].value_counts(normalize=True))"
      ],
      "metadata": {
        "colab": {
          "base_uri": "https://localhost:8080/"
        },
        "id": "fO_kdRFxG8km",
        "outputId": "6184c765-346d-420d-de6c-f407e56c4722"
      },
      "execution_count": null,
      "outputs": [
        {
          "output_type": "stream",
          "name": "stdout",
          "text": [
            "\n",
            "Répartition des classes:\n",
            " class\n",
            "1    0.746032\n",
            "0    0.253968\n",
            "Name: proportion, dtype: float64\n"
          ]
        }
      ]
    },
    {
      "cell_type": "code",
      "source": [
        "# Statistiques descriptives\n",
        "print(\"\\nStatistiques descriptives:\\n\", data_cleaned.describe())"
      ],
      "metadata": {
        "colab": {
          "base_uri": "https://localhost:8080/"
        },
        "id": "GVJzTviFHIRd",
        "outputId": "7c6ab2b4-fe13-4f52-f954-1d119497eeeb"
      },
      "execution_count": null,
      "outputs": [
        {
          "output_type": "stream",
          "name": "stdout",
          "text": [
            "\n",
            "Statistiques descriptives:\n",
            " 0          gender         PPE         DFA        RPDE   numPulses  \\\n",
            "count  756.000000  756.000000  756.000000  756.000000  756.000000   \n",
            "mean     0.515873    0.746284    0.700414    0.489058  323.972222   \n",
            "std      0.500079    0.169294    0.069718    0.137442   99.219059   \n",
            "min      0.000000    0.041551    0.543500    0.154300    2.000000   \n",
            "25%      0.000000    0.762833    0.647053    0.386537  251.000000   \n",
            "50%      1.000000    0.809655    0.700525    0.484355  317.000000   \n",
            "75%      1.000000    0.834315    0.754985    0.586515  384.250000   \n",
            "max      1.000000    0.907660    0.852640    0.871230  907.000000   \n",
            "\n",
            "0      numPeriodsPulses  meanPeriodPulses  stdDevPeriodPulses  locPctJitter  \\\n",
            "count        756.000000        756.000000          756.000000    756.000000   \n",
            "mean         322.678571          0.006360            0.000383      0.002324   \n",
            "std           99.402499          0.001826            0.000728      0.002628   \n",
            "min            1.000000          0.002107            0.000011      0.000210   \n",
            "25%          250.000000          0.005003            0.000049      0.000970   \n",
            "50%          316.000000          0.006048            0.000077      0.001495   \n",
            "75%          383.250000          0.007528            0.000171      0.002520   \n",
            "max          905.000000          0.012966            0.003483      0.027750   \n",
            "\n",
            "0      locAbsJitter  ...  tqwt_kurtosisValue_dec_28  \\\n",
            "count  7.560000e+02  ...                 756.000000   \n",
            "mean   1.673391e-05  ...                  26.237251   \n",
            "std    2.290134e-05  ...                  42.220693   \n",
            "min    6.860000e-07  ...                   1.509800   \n",
            "25%    5.260000e-06  ...                   2.408675   \n",
            "50%    9.530000e-06  ...                   5.586300   \n",
            "75%    1.832500e-05  ...                  28.958075   \n",
            "max    2.564800e-04  ...                 239.788800   \n",
            "\n",
            "0      tqwt_kurtosisValue_dec_29  tqwt_kurtosisValue_dec_30  \\\n",
            "count                 756.000000                 756.000000   \n",
            "mean                   22.840337                  18.587888   \n",
            "std                    32.626464                  25.537464   \n",
            "min                     1.531700                   1.582900   \n",
            "25%                     3.452800                   3.354825   \n",
            "50%                     7.062750                   6.077400   \n",
            "75%                    29.830850                  21.944050   \n",
            "max                   203.311300                 121.542900   \n",
            "\n",
            "0      tqwt_kurtosisValue_dec_31  tqwt_kurtosisValue_dec_32  \\\n",
            "count                 756.000000                 756.000000   \n",
            "mean                   13.872018                  12.218953   \n",
            "std                    20.046029                  17.783642   \n",
            "min                     1.747200                   1.789500   \n",
            "25%                     3.077450                   2.937025   \n",
            "50%                     4.770850                   4.300450   \n",
            "75%                    13.188000                  10.876150   \n",
            "max                   102.207000                  85.571700   \n",
            "\n",
            "0      tqwt_kurtosisValue_dec_33  tqwt_kurtosisValue_dec_34  \\\n",
            "count                 756.000000                 756.000000   \n",
            "mean                   12.375335                  14.799230   \n",
            "std                    16.341665                  15.722502   \n",
            "min                     1.628700                   1.861700   \n",
            "25%                     3.114375                   3.665925   \n",
            "50%                     4.741450                   6.725700   \n",
            "75%                    12.201325                  21.922050   \n",
            "max                    73.532200                  62.007300   \n",
            "\n",
            "0      tqwt_kurtosisValue_dec_35  tqwt_kurtosisValue_dec_36       class  \n",
            "count                 756.000000                 756.000000  756.000000  \n",
            "mean                   14.751559                  31.481110    0.746032  \n",
            "std                    14.432979                  34.230991    0.435568  \n",
            "min                     1.955900                   2.364000    0.000000  \n",
            "25%                     3.741275                   3.948750    0.000000  \n",
            "50%                     7.334250                  10.637250    1.000000  \n",
            "75%                    22.495175                  61.125325    1.000000  \n",
            "max                    57.544300                 156.423700    1.000000  \n",
            "\n",
            "[8 rows x 754 columns]\n"
          ]
        }
      ]
    },
    {
      "cell_type": "code",
      "source": [
        "# Visualisation de la répartition des classes\n",
        "sns.countplot(x='class', data=data_cleaned)\n",
        "plt.title(\"Répartition des classes\")\n",
        "plt.show()"
      ],
      "metadata": {
        "colab": {
          "base_uri": "https://localhost:8080/",
          "height": 472
        },
        "id": "i-osUg2KHMAs",
        "outputId": "5444e30f-22a3-419c-bf1d-fec722f47e3e"
      },
      "execution_count": null,
      "outputs": [
        {
          "output_type": "display_data",
          "data": {
            "text/plain": [
              "<Figure size 640x480 with 1 Axes>"
            ],
            "image/png": "[encoded data removed]"
          },
          "metadata": {}
        }
      ]
    },
    {
      "cell_type": "markdown",
      "source": [
        "##3. Préparation des Données"
      ],
      "metadata": {
        "id": "FUpG4y2UHr7t"
      }
    },
    {
      "cell_type": "code",
      "source": [
        "X = data_cleaned.drop('class', axis=1)\n",
        "y = data_cleaned['class']"
      ],
      "metadata": {
        "id": "rzBvTLqlHoP3"
      },
      "execution_count": null,
      "outputs": []
    },
    {
      "cell_type": "code",
      "source": [
        "# Normalisation des données\n",
        "scaler = StandardScaler()\n",
        "X_scaled = scaler.fit_transform(X)"
      ],
      "metadata": {
        "id": "mtPTfJncH0Kt"
      },
      "execution_count": null,
      "outputs": []
    },
    {
      "cell_type": "code",
      "source": [
        "# Séparation des données en ensembles d'entraînement et de test\n",
        "X_train, X_test, y_train, y_test = train_test_split(X_scaled, y, test_size=0.2, random_state=42)"
      ],
      "metadata": {
        "id": "B2OmcyldH3yP"
      },
      "execution_count": null,
      "outputs": []
    },
    {
      "cell_type": "markdown",
      "source": [
        "# 4. Sélection des meilleures caractéristiques avec SelectKBest et mutual_info_classif"
      ],
      "metadata": {
        "id": "55SNdJ0RknQD"
      }
    },
    {
      "cell_type": "code",
      "source": [
        "\n",
        "# Sélection des meilleures caractéristiques\n",
        "selector = SelectKBest(mutual_info_classif, k='all')  # Sélectionner toutes les caractéristiques\n",
        "X_train_selected = selector.fit_transform(X_train, y_train)  # Appliquer sur l'ensemble d'entraînement\n",
        "X_test_selected = selector.transform(X_test)  # Appliquer sur l'ensemble de test\n"
      ],
      "metadata": {
        "id": "jHFx_x6FkmUM"
      },
      "execution_count": null,
      "outputs": []
    },
    {
      "cell_type": "code",
      "source": [
        "# Affichage des scores des variables sélectionnées\n",
        "print(\"Scores des variables sélectionnées:\\n\", selector.scores_)"
      ],
      "metadata": {
        "colab": {
          "base_uri": "https://localhost:8080/"
        },
        "id": "Hscaz9wNkyID",
        "outputId": "b7427738-23aa-4f97-8ff7-d7ae1c6f93a8"
      },
      "execution_count": null,
      "outputs": [
        {
          "output_type": "stream",
          "name": "stdout",
          "text": [
            "Scores des variables sélectionnées:\n",
            " [0.0179223  0.00521038 0.04204554 0.02526803 0.08071163 0.08251513\n",
            " 0.07020915 0.05164817 0.03859701 0.07685739 0.04848495 0.06991339\n",
            " 0.06043108 0.03069973 0.04593797 0.0142996  0.02068104 0.05611878\n",
            " 0.01236025 0.0194116  0.01048505 0.02105426 0.07725671 0.06111421\n",
            " 0.06118114 0.03579309 0.01748683 0.02104165 0.         0.01237707\n",
            " 0.         0.01309919 0.         0.04053963 0.04540733 0.\n",
            " 0.0663453  0.0290119  0.00581467 0.01054404 0.00437578 0.\n",
            " 0.03297501 0.00908649 0.0344068  0.         0.00526199 0.\n",
            " 0.02903055 0.04065966 0.00794867 0.02587231 0.         0.03575368\n",
            " 0.02245748 0.01529644 0.04591481 0.04911611 0.10093404 0.04439142\n",
            " 0.01500759 0.03575621 0.04438735 0.00790843 0.02201278 0.01843616\n",
            " 0.02174153 0.         0.03282263 0.02760657 0.03921478 0.\n",
            " 0.041441   0.         0.02054427 0.         0.00875564 0.\n",
            " 0.01125002 0.02181759 0.         0.02625827 0.01429564 0.03001343\n",
            " 0.01440775 0.         0.         0.01370189 0.01439775 0.00864418\n",
            " 0.02356708 0.02384339 0.         0.         0.         0.0333612\n",
            " 0.         0.06897713 0.         0.02617212 0.         0.\n",
            " 0.01402767 0.00150147 0.         0.04125279 0.03396656 0.01858526\n",
            " 0.04142169 0.02531787 0.06374803 0.07086571 0.00231806 0.\n",
            " 0.04239437 0.07423506 0.07119343 0.03977954 0.07129146 0.07755949\n",
            " 0.07521782 0.05030336 0.04639852 0.04420719 0.06846164 0.11383403\n",
            " 0.03916694 0.00237171 0.         0.06753877 0.08297351 0.03580225\n",
            " 0.0941761  0.08051897 0.08765787 0.07779529 0.07301947 0.07923036\n",
            " 0.04957807 0.00070844 0.02553335 0.0427353  0.02852724 0.\n",
            " 0.00520909 0.         0.         0.01947491 0.0127452  0.02131315\n",
            " 0.00127138 0.00430112 0.02790093 0.02725616 0.         0.00025237\n",
            " 0.01225848 0.0170869  0.00329151 0.         0.03360343 0.01822331\n",
            " 0.         0.00788646 0.01096034 0.01803238 0.01284556 0.\n",
            " 0.0240066  0.01075889 0.03485207 0.00965584 0.         0.\n",
            " 0.         0.         0.00743365 0.00677413 0.00867209 0.\n",
            " 0.00240894 0.02528344 0.02790669 0.         0.03317911 0.00332979\n",
            " 0.00703919 0.02217422 0.         0.         0.06590422 0.071465\n",
            " 0.08479668 0.09527785 0.10373055 0.08485771 0.08670009 0.08015572\n",
            " 0.08026276 0.07296842 0.05247322 0.09645654 0.0979758  0.08072695\n",
            " 0.09293977 0.0753551  0.07757155 0.07537997 0.07396675 0.07248144\n",
            " 0.07652706 0.06618802 0.04847381 0.06255246 0.07340367 0.0733495\n",
            " 0.05779047 0.06454994 0.06528888 0.06333959 0.06078543 0.08289716\n",
            " 0.04697112 0.04179407 0.07178317 0.064051   0.08814582 0.06534383\n",
            " 0.07864191 0.05387404 0.         0.         0.03992    0.04775452\n",
            " 0.02920567 0.         0.00338623 0.00018187 0.01929146 0.01018637\n",
            " 0.01039801 0.00404983 0.         0.04750747 0.01138654 0.\n",
            " 0.         0.         0.03468732 0.01541085 0.0462447  0.04915578\n",
            " 0.03915556 0.         0.         0.         0.00920487 0.\n",
            " 0.         0.         0.         0.00093335 0.01433482 0.02278358\n",
            " 0.03340087 0.02619443 0.01539091 0.         0.0051796  0.02492771\n",
            " 0.00731825 0.00638014 0.0466725  0.00254194 0.         0.00902697\n",
            " 0.01477757 0.03295878 0.01426447 0.00508286 0.00263138 0.06074613\n",
            " 0.07694193 0.08995924 0.09817047 0.08757841 0.09318977 0.09457958\n",
            " 0.09220242 0.09309804 0.09242511 0.06229239 0.08547934 0.08550552\n",
            " 0.08720692 0.09127847 0.08895549 0.08362014 0.09125942 0.09015175\n",
            " 0.09016688 0.0734261  0.0664879  0.06579876 0.08073179 0.05451162\n",
            " 0.0616871  0.06509127 0.08144206 0.08085551 0.07232558 0.05648229\n",
            " 0.0826527  0.08362512 0.05931882 0.0922532  0.07838291 0.08144499\n",
            " 0.09340917 0.07094623 0.07791453 0.03518419 0.01471054 0.00677885\n",
            " 0.04240963 0.05218295 0.04761022 0.02007668 0.01607762 0.01005486\n",
            " 0.04010523 0.04596947 0.05530555 0.05199384 0.0323437  0.04556825\n",
            " 0.03339405 0.03911478 0.00672739 0.00597019 0.         0.01823896\n",
            " 0.01044591 0.01014132 0.04782073 0.08064881 0.0685508  0.08439255\n",
            " 0.04969238 0.03178682 0.01748487 0.02078678 0.02824849 0.01766057\n",
            " 0.02026869 0.03440822 0.00858118 0.03302423 0.00739583 0.01880772\n",
            " 0.02045358 0.04262075 0.03705923 0.06777129 0.05870359 0.00408671\n",
            " 0.01416194 0.07665152 0.0491284  0.05592566 0.07928749 0.05364399\n",
            " 0.05289309 0.03415634 0.03426317 0.0452747  0.0100009  0.01503084\n",
            " 0.0072099  0.00882054 0.01432914 0.         0.01497015 0.03929013\n",
            " 0.01518235 0.         0.         0.         0.02887568 0.03887925\n",
            " 0.03101478 0.09361371 0.06391128 0.03755674 0.         0.02129838\n",
            " 0.02879579 0.04618189 0.06149856 0.01647075 0.06113796 0.03678485\n",
            " 0.05139766 0.08705731 0.06837798 0.08834346 0.03368168 0.05786317\n",
            " 0.08207768 0.07924679 0.038667   0.05482628 0.06326391 0.0069048\n",
            " 0.01257989 0.02181521 0.0083395  0.0090984  0.07369757 0.05538439\n",
            " 0.04865145 0.00253902 0.         0.01863443 0.01828967 0.0331037\n",
            " 0.04941933 0.11288374 0.04369748 0.02816756 0.01073875 0.01923732\n",
            " 0.01957986 0.03169092 0.07261974 0.04691167 0.05637076 0.04891519\n",
            " 0.04389585 0.08772421 0.07076652 0.06750763 0.04866197 0.05561089\n",
            " 0.08934577 0.03282381 0.06644534 0.04126343 0.02384781 0.00104049\n",
            " 0.         0.0027921  0.         0.         0.02960296 0.02437523\n",
            " 0.02694359 0.00268407 0.02075206 0.         0.03474472 0.02609069\n",
            " 0.04436904 0.01667935 0.02037383 0.02986038 0.03292724 0.01997939\n",
            " 0.02568392 0.02601265 0.05971115 0.05251072 0.0575595  0.01630313\n",
            " 0.04738546 0.07603924 0.07878919 0.08765173 0.05178897 0.04186658\n",
            " 0.03784288 0.04417744 0.05901494 0.04342959 0.05594455 0.\n",
            " 0.03730377 0.005176   0.         0.         0.00245689 0.00999675\n",
            " 0.         0.         0.         0.02686113 0.01679125 0.0003364\n",
            " 0.03266197 0.0346427  0.01640198 0.00917555 0.         0.03052611\n",
            " 0.01685675 0.0158235  0.03266039 0.03977062 0.07654191 0.02149282\n",
            " 0.03812642 0.01135044 0.05264083 0.03865988 0.0144784  0.00146876\n",
            " 0.04081233 0.052945   0.04879443 0.00753443 0.07847921 0.05677103\n",
            " 0.0238651  0.09198941 0.05537845 0.08948736 0.08569719 0.03717256\n",
            " 0.         0.01360874 0.06420933 0.05016935 0.00113586 0.03179895\n",
            " 0.09140132 0.02311034 0.03666404 0.00059958 0.         0.0107118\n",
            " 0.         0.04082274 0.0145283  0.         0.03731866 0.\n",
            " 0.01871545 0.05987956 0.02084179 0.00989014 0.02291183 0.0668259\n",
            " 0.01251438 0.01090058 0.         0.0286295  0.00722781 0.04780386\n",
            " 0.         0.03090336 0.         0.0148613  0.00516187 0.05513723\n",
            " 0.         0.         0.00558437 0.         0.01869631 0.02041587\n",
            " 0.0399991  0.0210292  0.02035257 0.03569948 0.01553941 0.00535159\n",
            " 0.02631079 0.03368713 0.06523029 0.04928105 0.05183467 0.01537619\n",
            " 0.06748984 0.05656375 0.06832573 0.07637125 0.05882773 0.09844678\n",
            " 0.05595976 0.03217359 0.04354967 0.04492093 0.04322496 0.02466845\n",
            " 0.00110615 0.00719087 0.04109414 0.01097948 0.013277   0.01853168\n",
            " 0.02617856 0.00945949 0.02788972 0.01633418 0.02934879 0.0448288\n",
            " 0.0522208  0.04168528 0.07089494 0.00842515 0.0148556  0.01300029\n",
            " 0.03163178 0.02624849 0.05711694 0.07970482 0.06405439 0.06035717\n",
            " 0.07238231 0.05713725 0.07541042 0.05034308 0.02889218 0.04200739\n",
            " 0.03925713 0.04854232 0.04777663 0.01749979 0.02197222 0.01298853\n",
            " 0.         0.03382487 0.01221022 0.01306005 0.01307863 0.00926829\n",
            " 0.02679473 0.0103214  0.         0.0167212  0.         0.05271811\n",
            " 0.00655972 0.01683776 0.         0.05239327 0.03641424 0.03678073\n",
            " 0.02268143 0.04784264 0.01819881 0.04664863 0.04001944 0.02569491\n",
            " 0.0305228  0.05151933 0.07021298 0.05157067 0.03564108 0.02691559\n",
            " 0.0616952  0.05568747 0.00820779 0.04065944 0.00323034 0.01038721\n",
            " 0.03781225 0.01700418 0.02630467 0.0136959  0.01231397 0.02306475\n",
            " 0.03596997 0.01908766 0.         0.         0.01284003 0.03315125\n",
            " 0.04082008 0.04627351 0.01586249 0.         0.         0.04285883\n",
            " 0.         0.04277921 0.         0.00134951 0.03474349 0.\n",
            " 0.00265718 0.02876205 0.04264322 0.07339229 0.         0.\n",
            " 0.05807647 0.04158402 0.05616894 0.0124138  0.02312269 0.05131848\n",
            " 0.06593484 0.04684201 0.06122191 0.05852144 0.06289193 0.04644554\n",
            " 0.03960858 0.0043577  0.08865082 0.         0.         0.00490849\n",
            " 0.02716146 0.04431596 0.07342737 0.03341069 0.04362424 0.02060085\n",
            " 0.01329369 0.04483063 0.03086255 0.00557385 0.         0.00809252\n",
            " 0.         0.00568547 0.01334486 0.01185952 0.         0.01973181\n",
            " 0.03650046 0.04288274 0.04909761 0.04635456 0.01676767 0.02813747\n",
            " 0.03550044 0.01251137 0.02289831 0.02067914 0.07500841 0.0772723\n",
            " 0.06570374 0.02485961 0.02308091 0.         0.00719538 0.\n",
            " 0.01226045 0.0659865  0.07643236]\n"
          ]
        }
      ]
    },
    {
      "cell_type": "markdown",
      "source": [
        "#5. Fonction pour Évaluer un Modèle"
      ],
      "metadata": {
        "id": "mUiF8_FxIA0S"
      }
    },
    {
      "cell_type": "code",
      "source": [
        "def evaluate_model(model, X_train, X_test, y_train, y_test):\n",
        "    model.fit(X_train, y_train)\n",
        "    y_pred = model.predict(X_test)\n",
        "    print(f\"\\n{model.__class__.__name__}\")\n",
        "    print(\"Classification Report:\\n\", classification_report(y_test, y_pred))\n",
        "    print(\"Confusion Matrix:\\n\", confusion_matrix(y_test, y_pred))\n",
        "    if hasattr(model, \"predict_proba\"):\n",
        "        roc_auc = roc_auc_score(y_test, model.predict_proba(X_test)[:, 1])\n",
        "        print(\"ROC AUC Score:\", roc_auc)"
      ],
      "metadata": {
        "id": "Z6TfDTDvH8o9"
      },
      "execution_count": null,
      "outputs": []
    },
    {
      "cell_type": "code",
      "source": [
        "# Définition des modèles à évaluer\n",
        "models = [\n",
        "    KNeighborsClassifier(),\n",
        "    DecisionTreeClassifier(),\n",
        "    SVC(probability=True),\n",
        "    RandomForestClassifier(),\n",
        "    AdaBoostClassifier()\n",
        "]\n",
        "\n",
        "# Évaluation des modèles\n",
        "for model in models:\n",
        "    evaluate_model(model, X_train_selected, X_test_selected, y_train, y_test)\n"
      ],
      "metadata": {
        "colab": {
          "base_uri": "https://localhost:8080/"
        },
        "id": "NzE0cmEBlHl0",
        "outputId": "34d22198-c542-4531-d128-425b9ca26171"
      },
      "execution_count": null,
      "outputs": [
        {
          "output_type": "stream",
          "name": "stdout",
          "text": [
            "\n",
            "KNeighborsClassifier\n",
            "Classification Report:\n",
            "               precision    recall  f1-score   support\n",
            "\n",
            "           0       1.00      0.61      0.75        38\n",
            "           1       0.88      1.00      0.94       114\n",
            "\n",
            "    accuracy                           0.90       152\n",
            "   macro avg       0.94      0.80      0.85       152\n",
            "weighted avg       0.91      0.90      0.89       152\n",
            "\n",
            "Confusion Matrix:\n",
            " [[ 23  15]\n",
            " [  0 114]]\n",
            "ROC AUC Score: 0.9203601108033241\n",
            "\n",
            "DecisionTreeClassifier\n",
            "Classification Report:\n",
            "               precision    recall  f1-score   support\n",
            "\n",
            "           0       0.58      0.58      0.58        38\n",
            "           1       0.86      0.86      0.86       114\n",
            "\n",
            "    accuracy                           0.79       152\n",
            "   macro avg       0.72      0.72      0.72       152\n",
            "weighted avg       0.79      0.79      0.79       152\n",
            "\n",
            "Confusion Matrix:\n",
            " [[22 16]\n",
            " [16 98]]\n",
            "ROC AUC Score: 0.7192982456140351\n",
            "\n",
            "SVC\n",
            "Classification Report:\n",
            "               precision    recall  f1-score   support\n",
            "\n",
            "           0       0.95      0.47      0.63        38\n",
            "           1       0.85      0.99      0.91       114\n",
            "\n",
            "    accuracy                           0.86       152\n",
            "   macro avg       0.90      0.73      0.77       152\n",
            "weighted avg       0.87      0.86      0.84       152\n",
            "\n",
            "Confusion Matrix:\n",
            " [[ 18  20]\n",
            " [  1 113]]\n",
            "ROC AUC Score: 0.8758079409048938\n",
            "\n",
            "RandomForestClassifier\n",
            "Classification Report:\n",
            "               precision    recall  f1-score   support\n",
            "\n",
            "           0       0.88      0.61      0.72        38\n",
            "           1       0.88      0.97      0.93       114\n",
            "\n",
            "    accuracy                           0.88       152\n",
            "   macro avg       0.88      0.79      0.82       152\n",
            "weighted avg       0.88      0.88      0.87       152\n",
            "\n",
            "Confusion Matrix:\n",
            " [[ 23  15]\n",
            " [  3 111]]\n",
            "ROC AUC Score: 0.8923130193905817\n",
            "\n",
            "AdaBoostClassifier\n",
            "Classification Report:\n",
            "               precision    recall  f1-score   support\n",
            "\n",
            "           0       0.74      0.68      0.71        38\n",
            "           1       0.90      0.92      0.91       114\n",
            "\n",
            "    accuracy                           0.86       152\n",
            "   macro avg       0.82      0.80      0.81       152\n",
            "weighted avg       0.86      0.86      0.86       152\n",
            "\n",
            "Confusion Matrix:\n",
            " [[ 26  12]\n",
            " [  9 105]]\n",
            "ROC AUC Score: 0.8554939981532779\n"
          ]
        }
      ]
    },
    {
      "cell_type": "code",
      "source": [
        "# Validation croisée\n",
        "print(\"\\nValidation Croisée :\")\n",
        "for model in models:\n",
        "    scores = cross_val_score(model, X_train_selected, y_train, cv=5, scoring='accuracy')\n",
        "    print(f\"{model.__class__.__name__} - Accuracy: {scores.mean():.4f} ± {scores.std():.4f}\")"
      ],
      "metadata": {
        "colab": {
          "base_uri": "https://localhost:8080/"
        },
        "id": "X5oItSz3raE-",
        "outputId": "1db25772-6ec6-4b03-b3d1-417f2c54d7f5"
      },
      "execution_count": null,
      "outputs": [
        {
          "output_type": "stream",
          "name": "stdout",
          "text": [
            "\n",
            "Validation Croisée :\n",
            "KNeighborsClassifier - Accuracy: 0.8295 ± 0.0143\n",
            "DecisionTreeClassifier - Accuracy: 0.7930 ± 0.0094\n",
            "SVC - Accuracy: 0.8444 ± 0.0328\n",
            "RandomForestClassifier - Accuracy: 0.8510 ± 0.0278\n",
            "AdaBoostClassifier - Accuracy: 0.8410 ± 0.0295\n"
          ]
        }
      ]
    },
    {
      "cell_type": "code",
      "source": [
        "# Importation des bibliothèques nécessaires\n",
        "from sklearn.metrics import (\n",
        "    classification_report, confusion_matrix, roc_auc_score,\n",
        "    accuracy_score, f1_score\n",
        ")\n",
        "\n",
        "# Résumé des résultats\n",
        "results = []\n",
        "for model in models:\n",
        "    model.fit(X_train_selected, y_train)\n",
        "    y_pred = model.predict(X_test_selected)\n",
        "    accuracy = accuracy_score(y_test, y_pred)\n",
        "    f1 = f1_score(y_test, y_pred, average='weighted')\n",
        "    results.append({\n",
        "        \"Modèle\": model.__class__.__name__,\n",
        "        \"Accuracy\": accuracy,\n",
        "        \"F1-Score\": f1\n",
        "    })\n",
        "\n",
        "results_df = pd.DataFrame(results)\n",
        "print(\"\\nRésumé des résultats :\\n\", results_df)\n"
      ],
      "metadata": {
        "colab": {
          "base_uri": "https://localhost:8080/"
        },
        "id": "EHfeX-3urvtd",
        "outputId": "72da5084-917c-4c07-f574-9d79559b027f"
      },
      "execution_count": null,
      "outputs": [
        {
          "output_type": "stream",
          "name": "stdout",
          "text": [
            "\n",
            "Résumé des résultats :\n",
            "                    Modèle  Accuracy  F1-Score\n",
            "0    KNeighborsClassifier  0.901316  0.892228\n",
            "1  DecisionTreeClassifier  0.776316  0.778194\n",
            "2                     SVC  0.861842  0.844130\n",
            "3  RandomForestClassifier  0.861842  0.851314\n",
            "4      AdaBoostClassifier  0.861842  0.859900\n"
          ]
        }
      ]
    },
    {
      "cell_type": "markdown",
      "source": [
        "# 6. Modèle de Stacking"
      ],
      "metadata": {
        "id": "24xgBP8SIMbX"
      }
    },
    {
      "cell_type": "code",
      "source": [
        "# Implémentation du stacking\n",
        "estimators = [\n",
        "    ('knn', KNeighborsClassifier()),\n",
        "    ('dt', DecisionTreeClassifier()),\n",
        "    ('rf', RandomForestClassifier()),\n",
        "    ('svc', SVC(probability=True))\n",
        "]\n",
        "stacking_model = StackingClassifier(estimators=estimators, final_estimator=AdaBoostClassifier())\n",
        "evaluate_model(stacking_model, X_train_selected, X_test_selected, y_train, y_test)\n"
      ],
      "metadata": {
        "id": "FOdUW-ItIOeq",
        "colab": {
          "base_uri": "https://localhost:8080/"
        },
        "outputId": "7a9e03d7-9538-4705-8a95-f0b0b0cb50da"
      },
      "execution_count": null,
      "outputs": [
        {
          "output_type": "stream",
          "name": "stdout",
          "text": [
            "\n",
            "StackingClassifier\n",
            "Classification Report:\n",
            "               precision    recall  f1-score   support\n",
            "\n",
            "           0       0.71      0.76      0.73        38\n",
            "           1       0.92      0.89      0.91       114\n",
            "\n",
            "    accuracy                           0.86       152\n",
            "   macro avg       0.81      0.83      0.82       152\n",
            "weighted avg       0.87      0.86      0.86       152\n",
            "\n",
            "Confusion Matrix:\n",
            " [[ 29   9]\n",
            " [ 12 102]]\n",
            "ROC AUC Score: 0.9058171745152354\n"
          ]
        }
      ]
    },
    {
      "cell_type": "markdown",
      "source": [
        "# 7. Sélection de variables par un modèle de type GradientBoosting"
      ],
      "metadata": {
        "id": "hAevKmBTnXcM"
      }
    },
    {
      "cell_type": "code",
      "source": [
        "# Sélection de variables basée sur un modèle d'ensemble (GradientBoosting)\n",
        "gb_model = GradientBoostingClassifier()\n",
        "gb_model.fit(X_train, y_train)"
      ],
      "metadata": {
        "colab": {
          "base_uri": "https://localhost:8080/",
          "height": 80
        },
        "id": "Q0z7R6BAIYZr",
        "outputId": "3f414a3a-2f05-4269-c936-c2cc70cb6438"
      },
      "execution_count": null,
      "outputs": [
        {
          "output_type": "execute_result",
          "data": {
            "text/plain": [
              "GradientBoostingClassifier()"
            ],
            "text/html": [
              "<style>#sk-container-id-2 {\n",
              "  /* Definition of color scheme common for light and dark mode */\n",
              "  --sklearn-color-text: #000;\n",
              "  --sklearn-color-text-muted: #666;\n",
              "  --sklearn-color-line: gray;\n",
              "  /* Definition of color scheme for unfitted estimators */\n",
              "  --sklearn-color-unfitted-level-0: #fff5e6;\n",
              "  --sklearn-color-unfitted-level-1: #f6e4d2;\n",
              "  --sklearn-color-unfitted-level-2: #ffe0b3;\n",
              "  --sklearn-color-unfitted-level-3: chocolate;\n",
              "  /* Definition of color scheme for fitted estimators */\n",
              "  --sklearn-color-fitted-level-0: #f0f8ff;\n",
              "  --sklearn-color-fitted-level-1: #d4ebff;\n",
              "  --sklearn-color-fitted-level-2: #b3dbfd;\n",
              "  --sklearn-color-fitted-level-3: cornflowerblue;\n",
              "\n",
              "  /* Specific color for light theme */\n",
              "  --sklearn-color-text-on-default-background: var(--sg-text-color, var(--theme-code-foreground, var(--jp-content-font-color1, black)));\n",
              "  --sklearn-color-background: var(--sg-background-color, var(--theme-background, var(--jp-layout-color0, white)));\n",
              "  --sklearn-color-border-box: var(--sg-text-color, var(--theme-code-foreground, var(--jp-content-font-color1, black)));\n",
              "  --sklearn-color-icon: #696969;\n",
              "\n",
              "  @media (prefers-color-scheme: dark) {\n",
              "    /* Redefinition of color scheme for dark theme */\n",
              "    --sklearn-color-text-on-default-background: var(--sg-text-color, var(--theme-code-foreground, var(--jp-content-font-color1, white)));\n",
              "    --sklearn-color-background: var(--sg-background-color, var(--theme-background, var(--jp-layout-color0, #111)));\n",
              "    --sklearn-color-border-box: var(--sg-text-color, var(--theme-code-foreground, var(--jp-content-font-color1, white)));\n",
              "    --sklearn-color-icon: #878787;\n",
              "  }\n",
              "}\n",
              "\n",
              "#sk-container-id-2 {\n",
              "  color: var(--sklearn-color-text);\n",
              "}\n",
              "\n",
              "#sk-container-id-2 pre {\n",
              "  padding: 0;\n",
              "}\n",
              "\n",
              "#sk-container-id-2 input.sk-hidden--visually {\n",
              "  border: 0;\n",
              "  clip: rect(1px 1px 1px 1px);\n",
              "  clip: rect(1px, 1px, 1px, 1px);\n",
              "  height: 1px;\n",
              "  margin: -1px;\n",
              "  overflow: hidden;\n",
              "  padding: 0;\n",
              "  position: absolute;\n",
              "  width: 1px;\n",
              "}\n",
              "\n",
              "#sk-container-id-2 div.sk-dashed-wrapped {\n",
              "  border: 1px dashed var(--sklearn-color-line);\n",
              "  margin: 0 0.4em 0.5em 0.4em;\n",
              "  box-sizing: border-box;\n",
              "  padding-bottom: 0.4em;\n",
              "  background-color: var(--sklearn-color-background);\n",
              "}\n",
              "\n",
              "#sk-container-id-2 div.sk-container {\n",
              "  /* jupyter's `normalize.less` sets `[hidden] { display: none; }`\n",
              "     but bootstrap.min.css set `[hidden] { display: none !important; }`\n",
              "     so we also need the `!important` here to be able to override the\n",
              "     default hidden behavior on the sphinx rendered scikit-learn.org.\n",
              "     See: https://github.com/scikit-learn/scikit-learn/issues/21755 */\n",
              "  display: inline-block !important;\n",
              "  position: relative;\n",
              "}\n",
              "\n",
              "#sk-container-id-2 div.sk-text-repr-fallback {\n",
              "  display: none;\n",
              "}\n",
              "\n",
              "div.sk-parallel-item,\n",
              "div.sk-serial,\n",
              "div.sk-item {\n",
              "  /* draw centered vertical line to link estimators */\n",
              "  background-image: linear-gradient(var(--sklearn-color-text-on-default-background), var(--sklearn-color-text-on-default-background));\n",
              "  background-size: 2px 100%;\n",
              "  background-repeat: no-repeat;\n",
              "  background-position: center center;\n",
              "}\n",
              "\n",
              "/* Parallel-specific style estimator block */\n",
              "\n",
              "#sk-container-id-2 div.sk-parallel-item::after {\n",
              "  content: \"\";\n",
              "  width: 100%;\n",
              "  border-bottom: 2px solid var(--sklearn-color-text-on-default-background);\n",
              "  flex-grow: 1;\n",
              "}\n",
              "\n",
              "#sk-container-id-2 div.sk-parallel {\n",
              "  display: flex;\n",
              "  align-items: stretch;\n",
              "  justify-content: center;\n",
              "  background-color: var(--sklearn-color-background);\n",
              "  position: relative;\n",
              "}\n",
              "\n",
              "#sk-container-id-2 div.sk-parallel-item {\n",
              "  display: flex;\n",
              "  flex-direction: column;\n",
              "}\n",
              "\n",
              "#sk-container-id-2 div.sk-parallel-item:first-child::after {\n",
              "  align-self: flex-end;\n",
              "  width: 50%;\n",
              "}\n",
              "\n",
              "#sk-container-id-2 div.sk-parallel-item:last-child::after {\n",
              "  align-self: flex-start;\n",
              "  width: 50%;\n",
              "}\n",
              "\n",
              "#sk-container-id-2 div.sk-parallel-item:only-child::after {\n",
              "  width: 0;\n",
              "}\n",
              "\n",
              "/* Serial-specific style estimator block */\n",
              "\n",
              "#sk-container-id-2 div.sk-serial {\n",
              "  display: flex;\n",
              "  flex-direction: column;\n",
              "  align-items: center;\n",
              "  background-color: var(--sklearn-color-background);\n",
              "  padding-right: 1em;\n",
              "  padding-left: 1em;\n",
              "}\n",
              "\n",
              "\n",
              "/* Toggleable style: style used for estimator/Pipeline/ColumnTransformer box that is\n",
              "clickable and can be expanded/collapsed.\n",
              "- Pipeline and ColumnTransformer use this feature and define the default style\n",
              "- Estimators will overwrite some part of the style using the `sk-estimator` class\n",
              "*/\n",
              "\n",
              "/* Pipeline and ColumnTransformer style (default) */\n",
              "\n",
              "#sk-container-id-2 div.sk-toggleable {\n",
              "  /* Default theme specific background. It is overwritten whether we have a\n",
              "  specific estimator or a Pipeline/ColumnTransformer */\n",
              "  background-color: var(--sklearn-color-background);\n",
              "}\n",
              "\n",
              "/* Toggleable label */\n",
              "#sk-container-id-2 label.sk-toggleable__label {\n",
              "  cursor: pointer;\n",
              "  display: flex;\n",
              "  width: 100%;\n",
              "  margin-bottom: 0;\n",
              "  padding: 0.5em;\n",
              "  box-sizing: border-box;\n",
              "  text-align: center;\n",
              "  align-items: start;\n",
              "  justify-content: space-between;\n",
              "  gap: 0.5em;\n",
              "}\n",
              "\n",
              "#sk-container-id-2 label.sk-toggleable__label .caption {\n",
              "  font-size: 0.6rem;\n",
              "  font-weight: lighter;\n",
              "  color: var(--sklearn-color-text-muted);\n",
              "}\n",
              "\n",
              "#sk-container-id-2 label.sk-toggleable__label-arrow:before {\n",
              "  /* Arrow on the left of the label */\n",
              "  content: \"▸\";\n",
              "  float: left;\n",
              "  margin-right: 0.25em;\n",
              "  color: var(--sklearn-color-icon);\n",
              "}\n",
              "\n",
              "#sk-container-id-2 label.sk-toggleable__label-arrow:hover:before {\n",
              "  color: var(--sklearn-color-text);\n",
              "}\n",
              "\n",
              "/* Toggleable content - dropdown */\n",
              "\n",
              "#sk-container-id-2 div.sk-toggleable__content {\n",
              "  max-height: 0;\n",
              "  max-width: 0;\n",
              "  overflow: hidden;\n",
              "  text-align: left;\n",
              "  /* unfitted */\n",
              "  background-color: var(--sklearn-color-unfitted-level-0);\n",
              "}\n",
              "\n",
              "#sk-container-id-2 div.sk-toggleable__content.fitted {\n",
              "  /* fitted */\n",
              "  background-color: var(--sklearn-color-fitted-level-0);\n",
              "}\n",
              "\n",
              "#sk-container-id-2 div.sk-toggleable__content pre {\n",
              "  margin: 0.2em;\n",
              "  border-radius: 0.25em;\n",
              "  color: var(--sklearn-color-text);\n",
              "  /* unfitted */\n",
              "  background-color: var(--sklearn-color-unfitted-level-0);\n",
              "}\n",
              "\n",
              "#sk-container-id-2 div.sk-toggleable__content.fitted pre {\n",
              "  /* unfitted */\n",
              "  background-color: var(--sklearn-color-fitted-level-0);\n",
              "}\n",
              "\n",
              "#sk-container-id-2 input.sk-toggleable__control:checked~div.sk-toggleable__content {\n",
              "  /* Expand drop-down */\n",
              "  max-height: 200px;\n",
              "  max-width: 100%;\n",
              "  overflow: auto;\n",
              "}\n",
              "\n",
              "#sk-container-id-2 input.sk-toggleable__control:checked~label.sk-toggleable__label-arrow:before {\n",
              "  content: \"▾\";\n",
              "}\n",
              "\n",
              "/* Pipeline/ColumnTransformer-specific style */\n",
              "\n",
              "#sk-container-id-2 div.sk-label input.sk-toggleable__control:checked~label.sk-toggleable__label {\n",
              "  color: var(--sklearn-color-text);\n",
              "  background-color: var(--sklearn-color-unfitted-level-2);\n",
              "}\n",
              "\n",
              "#sk-container-id-2 div.sk-label.fitted input.sk-toggleable__control:checked~label.sk-toggleable__label {\n",
              "  background-color: var(--sklearn-color-fitted-level-2);\n",
              "}\n",
              "\n",
              "/* Estimator-specific style */\n",
              "\n",
              "/* Colorize estimator box */\n",
              "#sk-container-id-2 div.sk-estimator input.sk-toggleable__control:checked~label.sk-toggleable__label {\n",
              "  /* unfitted */\n",
              "  background-color: var(--sklearn-color-unfitted-level-2);\n",
              "}\n",
              "\n",
              "#sk-container-id-2 div.sk-estimator.fitted input.sk-toggleable__control:checked~label.sk-toggleable__label {\n",
              "  /* fitted */\n",
              "  background-color: var(--sklearn-color-fitted-level-2);\n",
              "}\n",
              "\n",
              "#sk-container-id-2 div.sk-label label.sk-toggleable__label,\n",
              "#sk-container-id-2 div.sk-label label {\n",
              "  /* The background is the default theme color */\n",
              "  color: var(--sklearn-color-text-on-default-background);\n",
              "}\n",
              "\n",
              "/* On hover, darken the color of the background */\n",
              "#sk-container-id-2 div.sk-label:hover label.sk-toggleable__label {\n",
              "  color: var(--sklearn-color-text);\n",
              "  background-color: var(--sklearn-color-unfitted-level-2);\n",
              "}\n",
              "\n",
              "/* Label box, darken color on hover, fitted */\n",
              "#sk-container-id-2 div.sk-label.fitted:hover label.sk-toggleable__label.fitted {\n",
              "  color: var(--sklearn-color-text);\n",
              "  background-color: var(--sklearn-color-fitted-level-2);\n",
              "}\n",
              "\n",
              "/* Estimator label */\n",
              "\n",
              "#sk-container-id-2 div.sk-label label {\n",
              "  font-family: monospace;\n",
              "  font-weight: bold;\n",
              "  display: inline-block;\n",
              "  line-height: 1.2em;\n",
              "}\n",
              "\n",
              "#sk-container-id-2 div.sk-label-container {\n",
              "  text-align: center;\n",
              "}\n",
              "\n",
              "/* Estimator-specific */\n",
              "#sk-container-id-2 div.sk-estimator {\n",
              "  font-family: monospace;\n",
              "  border: 1px dotted var(--sklearn-color-border-box);\n",
              "  border-radius: 0.25em;\n",
              "  box-sizing: border-box;\n",
              "  margin-bottom: 0.5em;\n",
              "  /* unfitted */\n",
              "  background-color: var(--sklearn-color-unfitted-level-0);\n",
              "}\n",
              "\n",
              "#sk-container-id-2 div.sk-estimator.fitted {\n",
              "  /* fitted */\n",
              "  background-color: var(--sklearn-color-fitted-level-0);\n",
              "}\n",
              "\n",
              "/* on hover */\n",
              "#sk-container-id-2 div.sk-estimator:hover {\n",
              "  /* unfitted */\n",
              "  background-color: var(--sklearn-color-unfitted-level-2);\n",
              "}\n",
              "\n",
              "#sk-container-id-2 div.sk-estimator.fitted:hover {\n",
              "  /* fitted */\n",
              "  background-color: var(--sklearn-color-fitted-level-2);\n",
              "}\n",
              "\n",
              "/* Specification for estimator info (e.g. \"i\" and \"?\") */\n",
              "\n",
              "/* Common style for \"i\" and \"?\" */\n",
              "\n",
              ".sk-estimator-doc-link,\n",
              "a:link.sk-estimator-doc-link,\n",
              "a:visited.sk-estimator-doc-link {\n",
              "  float: right;\n",
              "  font-size: smaller;\n",
              "  line-height: 1em;\n",
              "  font-family: monospace;\n",
              "  background-color: var(--sklearn-color-background);\n",
              "  border-radius: 1em;\n",
              "  height: 1em;\n",
              "  width: 1em;\n",
              "  text-decoration: none !important;\n",
              "  margin-left: 0.5em;\n",
              "  text-align: center;\n",
              "  /* unfitted */\n",
              "  border: var(--sklearn-color-unfitted-level-1) 1pt solid;\n",
              "  color: var(--sklearn-color-unfitted-level-1);\n",
              "}\n",
              "\n",
              ".sk-estimator-doc-link.fitted,\n",
              "a:link.sk-estimator-doc-link.fitted,\n",
              "a:visited.sk-estimator-doc-link.fitted {\n",
              "  /* fitted */\n",
              "  border: var(--sklearn-color-fitted-level-1) 1pt solid;\n",
              "  color: var(--sklearn-color-fitted-level-1);\n",
              "}\n",
              "\n",
              "/* On hover */\n",
              "div.sk-estimator:hover .sk-estimator-doc-link:hover,\n",
              ".sk-estimator-doc-link:hover,\n",
              "div.sk-label-container:hover .sk-estimator-doc-link:hover,\n",
              ".sk-estimator-doc-link:hover {\n",
              "  /* unfitted */\n",
              "  background-color: var(--sklearn-color-unfitted-level-3);\n",
              "  color: var(--sklearn-color-background);\n",
              "  text-decoration: none;\n",
              "}\n",
              "\n",
              "div.sk-estimator.fitted:hover .sk-estimator-doc-link.fitted:hover,\n",
              ".sk-estimator-doc-link.fitted:hover,\n",
              "div.sk-label-container:hover .sk-estimator-doc-link.fitted:hover,\n",
              ".sk-estimator-doc-link.fitted:hover {\n",
              "  /* fitted */\n",
              "  background-color: var(--sklearn-color-fitted-level-3);\n",
              "  color: var(--sklearn-color-background);\n",
              "  text-decoration: none;\n",
              "}\n",
              "\n",
              "/* Span, style for the box shown on hovering the info icon */\n",
              ".sk-estimator-doc-link span {\n",
              "  display: none;\n",
              "  z-index: 9999;\n",
              "  position: relative;\n",
              "  font-weight: normal;\n",
              "  right: .2ex;\n",
              "  padding: .5ex;\n",
              "  margin: .5ex;\n",
              "  width: min-content;\n",
              "  min-width: 20ex;\n",
              "  max-width: 50ex;\n",
              "  color: var(--sklearn-color-text);\n",
              "  box-shadow: 2pt 2pt 4pt #999;\n",
              "  /* unfitted */\n",
              "  background: var(--sklearn-color-unfitted-level-0);\n",
              "  border: .5pt solid var(--sklearn-color-unfitted-level-3);\n",
              "}\n",
              "\n",
              ".sk-estimator-doc-link.fitted span {\n",
              "  /* fitted */\n",
              "  background: var(--sklearn-color-fitted-level-0);\n",
              "  border: var(--sklearn-color-fitted-level-3);\n",
              "}\n",
              "\n",
              ".sk-estimator-doc-link:hover span {\n",
              "  display: block;\n",
              "}\n",
              "\n",
              "/* \"?\"-specific style due to the `<a>` HTML tag */\n",
              "\n",
              "#sk-container-id-2 a.estimator_doc_link {\n",
              "  float: right;\n",
              "  font-size: 1rem;\n",
              "  line-height: 1em;\n",
              "  font-family: monospace;\n",
              "  background-color: var(--sklearn-color-background);\n",
              "  border-radius: 1rem;\n",
              "  height: 1rem;\n",
              "  width: 1rem;\n",
              "  text-decoration: none;\n",
              "  /* unfitted */\n",
              "  color: var(--sklearn-color-unfitted-level-1);\n",
              "  border: var(--sklearn-color-unfitted-level-1) 1pt solid;\n",
              "}\n",
              "\n",
              "#sk-container-id-2 a.estimator_doc_link.fitted {\n",
              "  /* fitted */\n",
              "  border: var(--sklearn-color-fitted-level-1) 1pt solid;\n",
              "  color: var(--sklearn-color-fitted-level-1);\n",
              "}\n",
              "\n",
              "/* On hover */\n",
              "#sk-container-id-2 a.estimator_doc_link:hover {\n",
              "  /* unfitted */\n",
              "  background-color: var(--sklearn-color-unfitted-level-3);\n",
              "  color: var(--sklearn-color-background);\n",
              "  text-decoration: none;\n",
              "}\n",
              "\n",
              "#sk-container-id-2 a.estimator_doc_link.fitted:hover {\n",
              "  /* fitted */\n",
              "  background-color: var(--sklearn-color-fitted-level-3);\n",
              "}\n",
              "</style><div id=\"sk-container-id-2\" class=\"sk-top-container\"><div class=\"sk-text-repr-fallback\"><pre>GradientBoostingClassifier()</pre><b>In a Jupyter environment, please rerun this cell to show the HTML representation or trust the notebook. <br />On GitHub, the HTML representation is unable to render, please try loading this page with nbviewer.org.</b></div><div class=\"sk-container\" hidden><div class=\"sk-item\"><div class=\"sk-estimator fitted sk-toggleable\"><input class=\"sk-toggleable__control sk-hidden--visually\" id=\"sk-estimator-id-2\" type=\"checkbox\" checked><label for=\"sk-estimator-id-2\" class=\"sk-toggleable__label fitted sk-toggleable__label-arrow\"><div><div>GradientBoostingClassifier</div></div><div><a class=\"sk-estimator-doc-link fitted\" rel=\"noreferrer\" target=\"_blank\" href=\"https://scikit-learn.org/1.6/modules/generated/sklearn.ensemble.GradientBoostingClassifier.html\">?<span>Documentation for GradientBoostingClassifier</span></a><span class=\"sk-estimator-doc-link fitted\">i<span>Fitted</span></span></div></label><div class=\"sk-toggleable__content fitted\"><pre>GradientBoostingClassifier()</pre></div> </div></div></div></div>"
            ]
          },
          "metadata": {},
          "execution_count": 56
        }
      ]
    },
    {
      "cell_type": "code",
      "source": [
        "# Sélection des variables les plus importantes\n",
        "select_model = SelectFromModel(gb_model, threshold=\"mean\", max_features=10)\n",
        "X_train_selected_model = select_model.transform(X_train)\n",
        "X_test_selected_model = select_model.transform(X_test)"
      ],
      "metadata": {
        "id": "I9GykKfIntWR"
      },
      "execution_count": null,
      "outputs": []
    },
    {
      "cell_type": "code",
      "source": [
        "# Évaluation avec le modèle après sélection des variables\n",
        "evaluate_model(gb_model, X_train_selected_model, X_test_selected_model, y_train, y_test)"
      ],
      "metadata": {
        "colab": {
          "base_uri": "https://localhost:8080/"
        },
        "id": "SYA8qQUoIlTp",
        "outputId": "93f77445-a9b8-4afc-848b-8774b1eeba41"
      },
      "execution_count": null,
      "outputs": [
        {
          "output_type": "stream",
          "name": "stdout",
          "text": [
            "\n",
            "GradientBoostingClassifier\n",
            "Classification Report:\n",
            "               precision    recall  f1-score   support\n",
            "\n",
            "           0       0.74      0.66      0.69        38\n",
            "           1       0.89      0.92      0.91       114\n",
            "\n",
            "    accuracy                           0.86       152\n",
            "   macro avg       0.81      0.79      0.80       152\n",
            "weighted avg       0.85      0.86      0.85       152\n",
            "\n",
            "Confusion Matrix:\n",
            " [[ 25  13]\n",
            " [  9 105]]\n",
            "ROC AUC Score: 0.8988919667590027\n"
          ]
        }
      ]
    }
  ]
}